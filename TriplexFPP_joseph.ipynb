{
  "nbformat": 4,
  "nbformat_minor": 0,
  "metadata": {
    "colab": {
      "name": "TriplexFPP_joseph.ipynb",
      "provenance": [],
      "collapsed_sections": [],
      "include_colab_link": true
    },
    "kernelspec": {
      "display_name": "Python 3",
      "name": "python3"
    }
  },
  "cells": [
    {
      "cell_type": "markdown",
      "metadata": {
        "id": "view-in-github",
        "colab_type": "text"
      },
      "source": [
        "<a href=\"https://colab.research.google.com/github/Joseph-Luper-Tsenum/DNA-RNA-Triplex-Structure-Recognition-by-Deep-Learning-Architectures/blob/main/TriplexFPP_joseph.ipynb\" target=\"_parent\"><img src=\"https://colab.research.google.com/assets/colab-badge.svg\" alt=\"Open In Colab\"/></a>"
      ]
    },
    {
      "cell_type": "markdown",
      "metadata": {
        "id": "bpYOtP9Py0-Q"
      },
      "source": [
        "## Installing packages\n",
        "\n",
        "We will start by installing required packages. If we use hosted runtime (provided by Google) we just need to install [biopython](https://biopython.org).\n"
      ]
    },
    {
      "cell_type": "markdown",
      "metadata": {
        "id": "wucmAto08imo"
      },
      "source": [
        "# New Section"
      ]
    },
    {
      "cell_type": "code",
      "metadata": {
        "colab": {
          "base_uri": "https://localhost:8080/"
        },
        "id": "ajug_aco0qpI",
        "outputId": "78029a52-0e6f-42c6-a3ab-52b5a1e06a68"
      },
      "source": [
        "# To write bash code in python jupyter cell, put ! before the command\n",
        "!pip install biopython"
      ],
      "execution_count": null,
      "outputs": [
        {
          "output_type": "stream",
          "text": [
            "Requirement already satisfied: biopython in /usr/local/lib/python3.6/dist-packages (1.78)\n",
            "Requirement already satisfied: numpy in /usr/local/lib/python3.6/dist-packages (from biopython) (1.19.5)\n"
          ],
          "name": "stdout"
        }
      ]
    },
    {
      "cell_type": "markdown",
      "metadata": {
        "id": "SoV_E9rRrnJz"
      },
      "source": [
        "## Loading the data\n",
        "\n",
        "Let us clone the Github repository to access the [data](https://github.com/yuuuuzhang/TriplexFPP_data) and the [code](https://github.com/yuuuuzhang/TriplexFPP)."
      ]
    },
    {
      "cell_type": "code",
      "metadata": {
        "colab": {
          "base_uri": "https://localhost:8080/"
        },
        "id": "mguU6lE3rkZz",
        "outputId": "cc9ac7c2-3f9a-403a-d6e9-01984e8ed1fe"
      },
      "source": [
        "!git clone https://github.com/yuuuuzhang/TriplexFPP_data.git  # downloading data\n",
        "!git clone https://github.com/yuuuuzhang/TriplexFPP.git  # downloading code"
      ],
      "execution_count": null,
      "outputs": [
        {
          "output_type": "stream",
          "text": [
            "fatal: destination path 'TriplexFPP_data' already exists and is not an empty directory.\n",
            "fatal: destination path 'TriplexFPP' already exists and is not an empty directory.\n"
          ],
          "name": "stdout"
        }
      ]
    },
    {
      "cell_type": "markdown",
      "metadata": {
        "id": "mtCG_K1ED6Yz"
      },
      "source": [
        "Now we can load the data from [this repository](https://github.com/yuuuuzhang/TriplexFPP_data)."
      ]
    },
    {
      "cell_type": "code",
      "metadata": {
        "colab": {
          "base_uri": "https://localhost:8080/"
        },
        "id": "Dh3m1QYtEI-I",
        "outputId": "a1f6ba00-2500-4554-aa34-183a3abd5220"
      },
      "source": [
        "from Bio import SeqIO\n",
        "\n",
        "lncRNA_neg = './TriplexFPP_data/data/triplexlncRNA_neg.fa'\n",
        "lncRNA_pos = './TriplexFPP_data/data/triplexlncRNA_pos.fa'\n",
        "DNA_neg = './TriplexFPP_data/data/triplexDNA_neg.fa'\n",
        "DNA_pos = './TriplexFPP_data/data/triplexDNA_pos.fa'\n",
        "\n",
        "lncRNA_neg_records = list(SeqIO.parse(lncRNA_neg, \"fasta\"))\n",
        "lncRNA_pos_records = list(SeqIO.parse(lncRNA_pos, \"fasta\"))\n",
        "DNA_neg_records = list(SeqIO.parse(DNA_neg, \"fasta\"))\n",
        "DNA_pos_records = list(SeqIO.parse(DNA_pos, \"fasta\"))\n",
        "\n",
        "print(f'Overall we have:'\n",
        "      f'\\n{len(lncRNA_neg_records)} lncRNA triplex negative entries'\n",
        "      f'\\n{len(lncRNA_pos_records)} lncRNA triplex positive entries'\n",
        "      f'\\n{len(DNA_neg_records)} DNA triplex negative entries'\n",
        "      f'\\n{len(DNA_pos_records)} DNA triplex positive entries')"
      ],
      "execution_count": null,
      "outputs": [
        {
          "output_type": "stream",
          "text": [
            "Overall we have:\n",
            "36022 lncRNA triplex negative entries\n",
            "531 lncRNA triplex positive entries\n",
            "12735 DNA triplex negative entries\n",
            "2547 DNA triplex positive entries\n"
          ],
          "name": "stdout"
        }
      ]
    },
    {
      "cell_type": "markdown",
      "metadata": {
        "id": "eEQwZU5uFTMy"
      },
      "source": [
        "Now let us have a look at the data that we just loaded.."
      ]
    },
    {
      "cell_type": "code",
      "metadata": {
        "colab": {
          "base_uri": "https://localhost:8080/"
        },
        "id": "SmuHgpEVFQPh",
        "outputId": "c0f74139-6aca-458d-9aa9-b8940f5ebbfc"
      },
      "source": [
        "lncRNA_neg_records[:5]"
      ],
      "execution_count": null,
      "outputs": [
        {
          "output_type": "execute_result",
          "data": {
            "text/plain": [
              "[SeqRecord(seq=Seq('GTGCACACGGCTCCCATGCGTTGTCTTCCGAGCGTCAGGCCGCCCCTACCCGTG...TAT'), id='ENST00000473358.1|ENSG00000243485.5|OTTHUMG00000000959.2|OTTHUMT00000002840.1|MIR1302-2HG-202|MIR1302-2HG|712|', name='ENST00000473358.1|ENSG00000243485.5|OTTHUMG00000000959.2|OTTHUMT00000002840.1|MIR1302-2HG-202|MIR1302-2HG|712|', description='ENST00000473358.1|ENSG00000243485.5|OTTHUMG00000000959.2|OTTHUMT00000002840.1|MIR1302-2HG-202|MIR1302-2HG|712|', dbxrefs=[]),\n",
              " SeqRecord(seq=Seq('TCATCAGTCCAAAGTCCAGCAGTTGTCCCTCCTGGAATCCGTTGGCTTGCCTCC...GTC'), id='ENST00000469289.1|ENSG00000243485.5|OTTHUMG00000000959.2|OTTHUMT00000002841.2|MIR1302-2HG-201|MIR1302-2HG|535|', name='ENST00000469289.1|ENSG00000243485.5|OTTHUMG00000000959.2|OTTHUMT00000002841.2|MIR1302-2HG-201|MIR1302-2HG|535|', description='ENST00000469289.1|ENSG00000243485.5|OTTHUMG00000000959.2|OTTHUMT00000002841.2|MIR1302-2HG-201|MIR1302-2HG|535|', dbxrefs=[]),\n",
              " SeqRecord(seq=Seq('CACACAACGGGGTTTCGGGGCTGTGGACCCTGTGCCAGGAAAGGAAGGGCGCAG...GCT'), id='ENST00000417324.1|ENSG00000237613.2|OTTHUMG00000000960.1|OTTHUMT00000002842.1|FAM138A-201|FAM138A|1187|', name='ENST00000417324.1|ENSG00000237613.2|OTTHUMG00000000960.1|OTTHUMT00000002842.1|FAM138A-201|FAM138A|1187|', description='ENST00000417324.1|ENSG00000237613.2|OTTHUMG00000000960.1|OTTHUMT00000002842.1|FAM138A-201|FAM138A|1187|', dbxrefs=[]),\n",
              " SeqRecord(seq=Seq('CTGATCCATATGAATTCCTCTTATTAAGAAAAATAAAGCATCCAGGATTCAATG...TGG'), id='ENST00000466430.5|ENSG00000238009.6|OTTHUMG00000001096.2|OTTHUMT00000003225.1|AL627309.1-201|AL627309.1|2748|', name='ENST00000466430.5|ENSG00000238009.6|OTTHUMG00000001096.2|OTTHUMT00000003225.1|AL627309.1-201|AL627309.1|2748|', description='ENST00000466430.5|ENSG00000238009.6|OTTHUMG00000001096.2|OTTHUMT00000003225.1|AL627309.1-201|AL627309.1|2748|', dbxrefs=[]),\n",
              " SeqRecord(seq=Seq('GACAAGTTCGAGCATCTTAAAATGATTCAACAGGAGGAGATAAGGAAGCTCGAG...AAT'), id='ENST00000477740.5|ENSG00000238009.6|OTTHUMG00000001096.2|OTTHUMT00000003688.1|AL627309.1-202|AL627309.1|491|', name='ENST00000477740.5|ENSG00000238009.6|OTTHUMG00000001096.2|OTTHUMT00000003688.1|AL627309.1-202|AL627309.1|491|', description='ENST00000477740.5|ENSG00000238009.6|OTTHUMG00000001096.2|OTTHUMT00000003688.1|AL627309.1-202|AL627309.1|491|', dbxrefs=[])]"
            ]
          },
          "metadata": {
            "tags": []
          },
          "execution_count": 12
        }
      ]
    },
    {
      "cell_type": "code",
      "metadata": {
        "colab": {
          "base_uri": "https://localhost:8080/"
        },
        "id": "CMlc_644FgLQ",
        "outputId": "cfb9708a-6d29-49f0-a688-d20f37d42ade"
      },
      "source": [
        "lncRNA_pos_records[:5]"
      ],
      "execution_count": null,
      "outputs": [
        {
          "output_type": "execute_result",
          "data": {
            "text/plain": [
              "[SeqRecord(seq=Seq('GCAGCGCCCCACTCAACAAAGCTTCCCGCGGGCCCTGCCCCATGACTCACCGCT...TTC'), id='ENST00000609111.1|ENSG00000272734.1|OTTHUMG00000185998.2|OTTHUMT00000471963.1|ADIRF-AS1-203|ADIRF-AS1|3822|', name='ENST00000609111.1|ENSG00000272734.1|OTTHUMG00000185998.2|OTTHUMT00000471963.1|ADIRF-AS1-203|ADIRF-AS1|3822|', description='ENST00000609111.1|ENSG00000272734.1|OTTHUMG00000185998.2|OTTHUMT00000471963.1|ADIRF-AS1-203|ADIRF-AS1|3822|', dbxrefs=[]),\n",
              " SeqRecord(seq=Seq('AAGAGACAGCGCCGCCGGCCGTGGGGAGCGGACGCAGTGATTTGCTCCCCCTCG...ATG'), id='ENST00000574016.5|ENSG00000186594.14|OTTHUMG00000132197.7|OTTHUMT00000438379.2|MIR22HG-207|MIR22HG|557|', name='ENST00000574016.5|ENSG00000186594.14|OTTHUMG00000132197.7|OTTHUMT00000438379.2|MIR22HG-207|MIR22HG|557|', description='ENST00000574016.5|ENSG00000186594.14|OTTHUMG00000132197.7|OTTHUMT00000438379.2|MIR22HG-207|MIR22HG|557|', dbxrefs=[]),\n",
              " SeqRecord(seq=Seq('CCACAGGACAACGAAGAAAACCTATCTTCAGTCCCCACCCACGAAATGCTGGGG...TAA'), id='ENST00000655068.1|ENSG00000223749.11|OTTHUMG00000022455.9|OTTHUMT00000513963.2|MIR503HG-206|MIR503HG|1320|', name='ENST00000655068.1|ENSG00000223749.11|OTTHUMG00000022455.9|OTTHUMT00000513963.2|MIR503HG-206|MIR503HG|1320|', description='ENST00000655068.1|ENSG00000223749.11|OTTHUMG00000022455.9|OTTHUMT00000513963.2|MIR503HG-206|MIR503HG|1320|', dbxrefs=[]),\n",
              " SeqRecord(seq=Seq('GCACACCACAGAGCTCGGGAAAACCAACAGCATCTCAGTGTAGCGGGGAGATGG...ATC'), id='ENST00000612170.1|ENSG00000275549.1|OTTHUMG00000187409.1|OTTHUMT00000474912.1|STPG3-AS1-201|STPG3-AS1|1701|', name='ENST00000612170.1|ENSG00000275549.1|OTTHUMG00000187409.1|OTTHUMT00000474912.1|STPG3-AS1-201|STPG3-AS1|1701|', description='ENST00000612170.1|ENSG00000275549.1|OTTHUMG00000187409.1|OTTHUMT00000474912.1|STPG3-AS1-201|STPG3-AS1|1701|', dbxrefs=[]),\n",
              " SeqRecord(seq=Seq('ATTATTCTCGCTTGCTGGGGTCATGGTGTTTTGGCCTCTCCTGGCCTGGACTCT...AAA'), id='ENST00000593393.1|ENSG00000232098.3|OTTHUMG00000183534.1|OTTHUMT00000467029.1|AC012313.1-201|AC012313.1|3059|', name='ENST00000593393.1|ENSG00000232098.3|OTTHUMG00000183534.1|OTTHUMT00000467029.1|AC012313.1-201|AC012313.1|3059|', description='ENST00000593393.1|ENSG00000232098.3|OTTHUMG00000183534.1|OTTHUMT00000467029.1|AC012313.1-201|AC012313.1|3059|', dbxrefs=[])]"
            ]
          },
          "metadata": {
            "tags": []
          },
          "execution_count": 13
        }
      ]
    },
    {
      "cell_type": "code",
      "metadata": {
        "colab": {
          "base_uri": "https://localhost:8080/"
        },
        "id": "tXQ9FioFFi7K",
        "outputId": "8c005782-7898-456c-f9fe-3a68be77cdf1"
      },
      "source": [
        "DNA_neg_records[:5]"
      ],
      "execution_count": null,
      "outputs": [
        {
          "output_type": "execute_result",
          "data": {
            "text/plain": [
              "[SeqRecord(seq=Seq('CTCCTTCGTGGCGAAGCAGCAGGTGGAGAAGCAGCGGCCCCTGCGCTGCCTCAT...TAT'), id='chromosome:GRCh38:1:148262868:148263318:-1', name='chromosome:GRCh38:1:148262868:148263318:-1', description='chromosome:GRCh38:1:148262868:148263318:-1', dbxrefs=[]),\n",
              " SeqRecord(seq=Seq('CCCTGGGGACACAGGCGCGGGGGAGGGGAGCGCGGCCCGCGCGGGGCAGGAGGT...GCG'), id='chromosome:GRCh38:3:32238750:32238900:-1', name='chromosome:GRCh38:3:32238750:32238900:-1', description='chromosome:GRCh38:3:32238750:32238900:-1', dbxrefs=[]),\n",
              " SeqRecord(seq=Seq('TATTTTTCTACAATACTGAATTTGGAAAACAACAGCAACAACAACAACATCAAA...CTG'), id='chromosome:GRCh38:1:144560855:144561605:-1', name='chromosome:GRCh38:1:144560855:144561605:-1', description='chromosome:GRCh38:1:144560855:144561605:-1', dbxrefs=[]),\n",
              " SeqRecord(seq=Seq('GTATGTGTTAGTTGTAAATCAGGACTTGGCTTTGAGATGAATCCACCTGGGTCA...AGC'), id='chromosome:GRCh38:5:147510090:147510440:-1', name='chromosome:GRCh38:5:147510090:147510440:-1', description='chromosome:GRCh38:5:147510090:147510440:-1', dbxrefs=[]),\n",
              " SeqRecord(seq=Seq('TGGCCAGGCCCAGCCCGACGTCCCCCGGCAGCGGGGCGTCAGTCGCTCCCCAGC...AAG'), id='chromosome:GRCh38:11:47269927:47270227:-1', name='chromosome:GRCh38:11:47269927:47270227:-1', description='chromosome:GRCh38:11:47269927:47270227:-1', dbxrefs=[])]"
            ]
          },
          "metadata": {
            "tags": []
          },
          "execution_count": 14
        }
      ]
    },
    {
      "cell_type": "code",
      "metadata": {
        "colab": {
          "base_uri": "https://localhost:8080/"
        },
        "id": "j6Hw2iO5Fk6g",
        "outputId": "ab78b37e-80a4-47cc-f1ba-b200470d6fe2"
      },
      "source": [
        "DNA_pos_records[:5]"
      ],
      "execution_count": null,
      "outputs": [
        {
          "output_type": "execute_result",
          "data": {
            "text/plain": [
              "[SeqRecord(seq=Seq('TTAAGAATGGTTATGTTAGGGTTGTACGGTAGAACTGCTGTTATTCATCCTATG...CTT'), id='chromosome:GRCh38:1:629800:630250:-1', name='chromosome:GRCh38:1:629800:630250:-1', description='chromosome:GRCh38:1:629800:630250:-1', dbxrefs=[]),\n",
              " SeqRecord(seq=Seq('GGAGGGGCGGCAGGTGGTGAGTCTCGACCCCGCACTGGGCTGGCAGGGCCGAGG...GGA'), id='chromosome:GRCh38:1:1312900:1313050:-1', name='chromosome:GRCh38:1:1312900:1313050:-1', description='chromosome:GRCh38:1:1312900:1313050:-1', dbxrefs=[]),\n",
              " SeqRecord(seq=Seq('CAGGCGTGGTGGCGCGTGCCTGTAATCCCAGCAGTTTGAGAGGCCGAGGCGGGT...AGA'), id='chromosome:GRCh38:1:1477250:1478000:-1', name='chromosome:GRCh38:1:1477250:1478000:-1', description='chromosome:GRCh38:1:1477250:1478000:-1', dbxrefs=[]),\n",
              " SeqRecord(seq=Seq('GCCTCAACCCCCCGGGGCTTGAGGTGGGTAATCCTCCCACCTCAGCCTCCCGAG...CAC'), id='chromosome:GRCh38:1:2026750:2027100:-1', name='chromosome:GRCh38:1:2026750:2027100:-1', description='chromosome:GRCh38:1:2026750:2027100:-1', dbxrefs=[]),\n",
              " SeqRecord(seq=Seq('CGCCAGGAGGGTTGCGGAGAATCGAAGGGGCGTGAACAGCTTTGCACCATGTGA...GTC'), id='chromosome:GRCh38:1:5481750:5482050:-1', name='chromosome:GRCh38:1:5481750:5482050:-1', description='chromosome:GRCh38:1:5481750:5482050:-1', dbxrefs=[])]"
            ]
          },
          "metadata": {
            "tags": []
          },
          "execution_count": 15
        }
      ]
    },
    {
      "cell_type": "markdown",
      "metadata": {
        "id": "CUINyuvzFrxX"
      },
      "source": [
        "Now let us prepare the data as it is described in the [paper](https://bmcbioinformatics.biomedcentral.com/articles/10.1186/s12859-020-03864-0#MOESM1). We will use a simplified preprocessing, where we will enrich the positive data by oversampling and deplete negative data by undersampling. We will fix the data size for lncRNA triplex as `lncRNA_samples = 1500` (3 times bigger than the size of positive samples), while the data size for DNA triplex is `DNA_samples = 6000` (2.4 times bigger than the size of positive samples). Let us start by denoting some supplementary functions that we will use to extract sequence features used for training/testing."
      ]
    },
    {
      "cell_type": "code",
      "metadata": {
        "id": "MUqyYnwnYghn"
      },
      "source": [
        "import matplotlib.pyplot as plt\n",
        "import matplotlib as mpl\n",
        "\n",
        "mpl.rcParams['figure.figsize'] = (12, 10)\n",
        "colors = plt.rcParams['axes.prop_cycle'].by_key()['color']\n",
        "\n",
        "def get_seq_name_from_records(records):\n",
        "  # This function is used to extract nuclotide sequence and its id\n",
        "  seq = []\n",
        "  name = []\n",
        "  for i in range(len(records)):\n",
        "    seq.append(records[i].seq)\n",
        "    name.append(records[i].id)\n",
        "\n",
        "  return seq, name\n",
        "\n",
        "def extract_features(seq, lbls, train_percentage):\n",
        "  # This function extracts kmers and kmerscores from the sequence data\n",
        "\n",
        "  kmer1 = kmer_encode(seq, kmerArray[0:4])\n",
        "  kmer2 = kmer_encode(seq, kmerArray[4:20])\n",
        "  kmer3 = kmer_encode(seq, kmerArray[20:84])\n",
        "\n",
        "  # Extracting only train data to compute mean k-mer vectors\n",
        "  seq_train, lbls_train = seq[:int(train_percentage*len(seq))], lbls[:int(train_percentage*len(lbls))]\n",
        "\n",
        "  pos_seq = seq_train[lbls_train == 1]\n",
        "  neg_seq = seq_train[lbls_train == 0]\n",
        "\n",
        "  pos_kmers = kmer_encode(pos_seq, kmerArray)\n",
        "  neg_kmers = kmer_encode(neg_seq, kmerArray)\n",
        "\n",
        "  pos = np.mean(pos_kmers, axis=0)\n",
        "  neg = np.mean(neg_kmers, axis=0)\n",
        "\n",
        "  merscore1 = mer_score(seq, pos[0:4], neg[0:4], kmerArray[0:4],1)\n",
        "  merscore2 = mer_score(seq, pos[4:20], neg[4:20], kmerArray[4:20],2)\n",
        "  merscore3 = mer_score(seq, pos[20:84], neg[20:84], kmerArray[20:84],3)\n",
        "  merscore4 = mer_score(seq, pos[84:340], neg[84:340], kmerArray[84:340],4)\n",
        "  merscore5 = mer_score(seq, pos[340:1364], neg[340:1364], kmerArray[340:1364],5)\n",
        "  merscore6 = mer_score(seq, pos[1364:5460], neg[1364:5460], kmerArray[1364:5460],6)\n",
        "\n",
        "  features = np.concatenate((merscore1,merscore2,merscore3,merscore4,merscore5,merscore6,kmer1,kmer2,kmer3),axis=1)\n",
        "  \n",
        "  return np.expand_dims(features, axis=2)\n",
        "\n",
        "def plot_metrics(history):\n",
        "  # Courtesy of https://www.tensorflow.org/tutorials/structured_data/imbalanced_data#oversample_the_minority_class\n",
        "  metrics = ['loss', 'auc', 'precision', 'recall']\n",
        "  for n, metric in enumerate(metrics):\n",
        "    name = metric.replace(\"_\",\" \").capitalize()\n",
        "    plt.subplot(2,2,n+1)\n",
        "    plt.plot(history.epoch, history.history[metric], color=colors[0], label='Train')\n",
        "    plt.plot(history.epoch, history.history['val_'+metric],\n",
        "             color=colors[0], linestyle=\"--\", label='Val')\n",
        "    plt.xlabel('Epoch')\n",
        "    plt.ylabel(name)\n",
        "    if metric == 'loss':\n",
        "      plt.ylim([0, plt.ylim()[1]])\n",
        "    elif metric == 'auc':\n",
        "      plt.ylim([0.8,1])\n",
        "    else:\n",
        "      plt.ylim([0,1])\n",
        "\n",
        "    plt.legend()\n",
        "\n",
        "#####\n",
        "## The functions below were taken from TriplexFPP/code/triplex_util.py file\n",
        "#####\n",
        "\n",
        "def countnum(seq,nuacid):\n",
        "    # This function counts number of nucleotid occurences in the sequence\n",
        "    return len([1 for i in range(len(seq)) if seq.startswith(nuacid,i)])\n",
        "\n",
        "def construct_kmer():\n",
        "  # This function creates a list containing all possible k-mers (1 <= k <= 6)\n",
        "\tntarr = (\"A\",\"C\",\"G\",\"T\")\n",
        "\n",
        "\tkmerArray = []\n",
        "\n",
        "\n",
        "\tfor n in range(4):\n",
        "\t\tkmerArray.append(ntarr[n])\n",
        "\n",
        "\tfor n in range(4):\n",
        "\t\tstr1 = ntarr[n]\n",
        "\t\tfor m in range(4):\n",
        "\t\t\tstr2 = str1 + ntarr[m]\n",
        "\t\t\tkmerArray.append(str2)\n",
        "#############################################\n",
        "\tfor n in range(4):\n",
        "\t\tstr1 = ntarr[n]\n",
        "\t\tfor m in range(4):\n",
        "\t\t\tstr2 = str1 + ntarr[m]\n",
        "\t\t\tfor x in range(4):\n",
        "\t\t\t\tstr3 = str2 + ntarr[x]\n",
        "\t\t\t\tkmerArray.append(str3)\n",
        "#############################################\n",
        "#change this part for 3mer or 4mer\n",
        "\tfor n in range(4):\n",
        "\t\tstr1 = ntarr[n]\n",
        "\t\tfor m in range(4):\n",
        "\t\t\tstr2 = str1 + ntarr[m]\n",
        "\t\t\tfor x in range(4):\n",
        "\t\t\t\tstr3 = str2 + ntarr[x]\n",
        "\t\t\t\tfor y in range(4):\n",
        "\t\t\t\t\tstr4 = str3 + ntarr[y]\n",
        "\t\t\t\t\tkmerArray.append(str4)\n",
        "############################################\n",
        "\tfor n in range(4):\n",
        "\t\tstr1 = ntarr[n]\n",
        "\t\tfor m in range(4):\n",
        "\t\t\tstr2 = str1 + ntarr[m]\n",
        "\t\t\tfor x in range(4):\n",
        "\t\t\t\tstr3 = str2 + ntarr[x]\n",
        "\t\t\t\tfor y in range(4):\n",
        "\t\t\t\t\tstr4 = str3 + ntarr[y]\n",
        "\t\t\t\t\tfor z in range(4):\n",
        "\t\t\t\t\t\tstr5 = str4 + ntarr[z]\n",
        "\t\t\t\t\t\tkmerArray.append(str5)\n",
        "####################### 6-mer ##############\n",
        "\tfor n in range(4):\n",
        "\t\tstr1 = ntarr[n]\n",
        "\t\tfor m in range(4):\n",
        "\t\t\tstr2 = str1 + ntarr[m]\n",
        "\t\t\tfor x in range(4):\n",
        "\t\t\t\tstr3 = str2 + ntarr[x]\n",
        "\t\t\t\tfor y in range(4):\n",
        "\t\t\t\t\tstr4 = str3 + ntarr[y]\n",
        "\t\t\t\t\tfor z in range(4):\n",
        "\t\t\t\t\t\tstr5 = str4 + ntarr[z]\n",
        "\t\t\t\t\t\tfor t in range(4):\n",
        "\t\t\t\t\t\t\tstr6 = str5 + ntarr[t]\n",
        "\t\t\t\t\t\t\tkmerArray.append(str6)\n",
        "    \n",
        "\treturn kmerArray\n",
        "\n",
        "def kmer_encode(seq,kmerarray):\n",
        "    # This function computes k-mer feature from the sequence\n",
        "    result = np.zeros((len(seq),len(kmerarray)))\n",
        "    for i in range(len(seq)):\n",
        "        for j in range(len(kmerarray)):\n",
        "            result[i,j] = seq[i].count(kmerarray[j])/len(seq[i])\n",
        "    return result\n",
        "\n",
        "def mer_sin(seq,nc_m,c_m,kmerarray,x):   \n",
        "    # This function computes coefficient in the kmerscore\n",
        "    l = len(seq)-x+1\n",
        "    log_r = np.zeros((l))\n",
        "    for i in range(l):\n",
        "        tempseq = seq[i:i+x]\n",
        "        idx = kmerarray.index(tempseq)\n",
        "        Fc = c_m[int(idx)]\n",
        "        Fnc = nc_m[int(idx)]\n",
        "        if Fc==0 and Fnc==0:\n",
        "            log_r[i]=0\n",
        "        elif Fc==0 and Fnc!=0:\n",
        "            log_r[i]=-1\n",
        "        elif Fnc==0 and Fc!=0:\n",
        "            log_r[i]=1\n",
        "        else:\n",
        "            log_r[i] = math.log(Fc/Fnc)\n",
        "    miu = sum(log_r)/l\n",
        "    \n",
        "    return miu\n",
        "   \n",
        "def mer_score(seq,nc_m,c_m,kmerarray,x):\n",
        "    # This function computes kmerscore from the sequence and mean kmers\n",
        "    num_cores = multiprocessing.cpu_count()\n",
        "    miu = Parallel(n_jobs=num_cores)(delayed(mer_sin)(seq_i, nc_m_i, c_m_i, kmerarray_i, x_i) for seq_i, nc_m_i, c_m_i, kmerarray_i, x_i in tqdm(zip(seq, [nc_m]*len(seq), [c_m]*len(seq), [kmerarray]*len(seq), [x]*len(seq)), desc=f'Computing {x}merscore'))\n",
        "    #for i in tqdm(range(len(seq)), desc=f'Computing {x}merscore'):\n",
        "    #    miu[i] = mer_sin(seq[i],nc_m,c_m,kmerarray,x)\n",
        "        \n",
        "    miu0 = np.expand_dims(miu, axis=1)\n",
        "    return miu0"
      ],
      "execution_count": null,
      "outputs": []
    },
    {
      "cell_type": "code",
      "metadata": {
        "id": "dKcS81yYJ8mK"
      },
      "source": [
        "from sklearn.utils import resample\n",
        "from tqdm.notebook import tqdm\n",
        "from joblib import Parallel, delayed\n",
        "import multiprocessing\n",
        "import numpy as np\n",
        "import math\n",
        "\n",
        "_DATA_SIZE_lncRNA = 3000\n",
        "_DATA_SIZE_DNA = 12000\n",
        "_TRAIN_PERCENTAGE = 0.7\n",
        "_VAL_PERCENTAGE = 0.15\n",
        "_TEST_PERCENTAGE = 0.15\n",
        "\n",
        "# Dropping DNA sequences with letter 'N'\n",
        "DNA_neg_records = [record for record in DNA_neg_records if 'N' not in record.seq]\n",
        "DNA_pos_records = [record for record in DNA_pos_records if 'N' not in record.seq]\n",
        "\n",
        "# Extracting only sequences and names from lncRNA and DNA records\n",
        "lncRNA_neg_seq, lncRNA_neg_name = get_seq_name_from_records(lncRNA_neg_records)\n",
        "lncRNA_pos_seq, lncRNA_pos_name  = get_seq_name_from_records(lncRNA_pos_records)\n",
        "DNA_neg_seq, DNA_neg_name = get_seq_name_from_records(DNA_neg_records)\n",
        "DNA_pos_seq, DNA_pos_name = get_seq_name_from_records(DNA_pos_records)\n",
        "\n",
        "# Oversampling positive data and undersampling negative data\n",
        "lncRNA_neg_seq_balanced = resample(lncRNA_neg_seq, n_samples=_DATA_SIZE_lncRNA // 2)\n",
        "lncRNA_pos_seq_balanced = resample(lncRNA_pos_seq, n_samples=_DATA_SIZE_lncRNA // 2)\n",
        "DNA_neg_seq_balanced = resample(DNA_neg_seq, n_samples=_DATA_SIZE_DNA // 2)\n",
        "DNA_pos_seq_balanced = resample(DNA_pos_seq, n_samples=_DATA_SIZE_DNA // 2)\n",
        "\n",
        "# Merging positive and negative data, creating label array\n",
        "lncRNA_seq = np.array(lncRNA_neg_seq_balanced + lncRNA_pos_seq_balanced, dtype=object)\n",
        "DNA_seq = np.array(DNA_neg_seq_balanced + DNA_pos_seq_balanced, dtype=object)\n",
        "lncRNA_labels = np.array([0]*(_DATA_SIZE_lncRNA // 2) + [1]*(_DATA_SIZE_lncRNA // 2))\n",
        "DNA_labels = np.array([0]*(_DATA_SIZE_DNA // 2) + [1]*(_DATA_SIZE_DNA // 2))\n",
        "\n",
        "# Shuffling data\n",
        "lncRNA_index = np.arange(_DATA_SIZE_lncRNA)\n",
        "np.random.shuffle(lncRNA_index)\n",
        "DNA_index = np.arange(_DATA_SIZE_DNA)\n",
        "np.random.shuffle(DNA_index)\n",
        "lncRNA_seq, lncRNA_labels = lncRNA_seq[lncRNA_index], lncRNA_labels[lncRNA_index]\n",
        "DNA_seq, DNA_labels = DNA_seq[DNA_index], DNA_labels[DNA_index]\n",
        "\n",
        "# Getting a list of all possible k-mers from k = 1, to k = 6\n",
        "kmerArray = construct_kmer()"
      ],
      "execution_count": null,
      "outputs": []
    },
    {
      "cell_type": "code",
      "metadata": {
        "id": "xcYeG145rR78"
      },
      "source": [
        "import os\n",
        "\n",
        "# Extracting features for lncRNA data\n",
        "if not os.path.exists('./lcrna_features.npy'):\n",
        "  lncRNA_features = extract_features(lncRNA_seq, lncRNA_labels, _TRAIN_PERCENTAGE)\n",
        "  np.save('./lcrna_features', lncRNA_features)"
      ],
      "execution_count": null,
      "outputs": []
    },
    {
      "cell_type": "code",
      "metadata": {
        "id": "ILku4fZosEcD"
      },
      "source": [
        "# Extracting features for DNA data\n",
        "if not os.path.exists('./DNA_features.npy'):\n",
        "  DNA_features = extract_features(DNA_seq, DNA_labels, _TRAIN_PERCENTAGE)\n",
        "  np.save('./DNA_features', DNA_features)"
      ],
      "execution_count": null,
      "outputs": []
    },
    {
      "cell_type": "markdown",
      "metadata": {
        "id": "lTrmgkfssndM"
      },
      "source": [
        "We successfully extracted k-mer and kmerscore features from available list of sequences. Now let us prepare the data for training."
      ]
    },
    {
      "cell_type": "code",
      "metadata": {
        "id": "BmoKmWgAsIZ4"
      },
      "source": [
        "import tensorflow as tf\n",
        "from sklearn.preprocessing import StandardScaler\n",
        "from tensorflow import keras\n",
        "from tensorflow.keras import losses, optimizers, metrics, layers, models, regularizers\n",
        "\n",
        "_lncRNA_TRAIN_SIZE = int(_TRAIN_PERCENTAGE * _DATA_SIZE_lncRNA)\n",
        "_lncRNA_VAL_SIZE = int(_VAL_PERCENTAGE * _DATA_SIZE_lncRNA)\n",
        "_lncRNA_TEST_SIZE = int(_TEST_PERCENTAGE * _DATA_SIZE_lncRNA)\n",
        "_DNA_TRAIN_SIZE = int(_TRAIN_PERCENTAGE * _DATA_SIZE_DNA)\n",
        "_DNA_VAL_SIZE = int(_VAL_PERCENTAGE * _DATA_SIZE_DNA)\n",
        "_DNA_TEST_SIZE = int(_TEST_PERCENTAGE * _DATA_SIZE_DNA)\n",
        "\n",
        "lncRNA_features = np.load('./lcrna_features.npy')\n",
        "DNA_features = np.load('./DNA_features.npy')\n",
        "\n",
        "# Scale features for both datasets\n",
        "lncRNA_scaler = StandardScaler()\n",
        "lncRNA_train = lncRNA_features[:_lncRNA_TRAIN_SIZE]\n",
        "lncRNA_scaler.fit(lncRNA_train)\n",
        "lncRNA_features_scaled = lncRNA_scaler.transform(lncRNA_features)\n",
        "lncRNA_features_scaled = np.expand_dims(lncRNA_features_scaled, axis=2)\n",
        "\n",
        "DNA_scaler = StandardScaler()\n",
        "DNA_train = lncRNA_features[:_DNA_TRAIN_SIZE]\n",
        "DNA_scaler.fit(DNA_train)\n",
        "DNA_features_scaled = DNA_scaler.transform(DNA_features)\n",
        "DNA_features_scaled = np.expand_dims(DNA_features_scaled, axis=2)\n",
        "\n",
        "# Splitting data into train, validation and test as 70%/15%/15% (denoted in the previous cell)\n",
        "lncRNA_train, lncRNA_train_labels = lncRNA_features_scaled[:_lncRNA_TRAIN_SIZE], lncRNA_labels[:_lncRNA_TRAIN_SIZE]\n",
        "lncRNA_test, lncRNA_test_labels = lncRNA_features_scaled[_lncRNA_TRAIN_SIZE:], lncRNA_labels[_lncRNA_TRAIN_SIZE:]\n",
        "lncRNA_val, lncRNA_val_labels = lncRNA_test[:_lncRNA_VAL_SIZE], lncRNA_test_labels[:_lncRNA_VAL_SIZE]\n",
        "lncRNA_test, lncRNA_test_labels = lncRNA_test[_lncRNA_TEST_SIZE:], lncRNA_test_labels[_lncRNA_TEST_SIZE:]\n",
        "\n",
        "DNA_train, DNA_train_labels = DNA_features_scaled[:_DNA_TRAIN_SIZE], DNA_labels[:_DNA_TRAIN_SIZE]\n",
        "DNA_test, DNA_test_labels = DNA_features_scaled[_DNA_TRAIN_SIZE:], DNA_labels[_DNA_TRAIN_SIZE:]\n",
        "DNA_val, DNA_val_labels = DNA_test[:_DNA_VAL_SIZE], DNA_test_labels[:_DNA_VAL_SIZE]\n",
        "DNA_test, DNA_test_labels = DNA_test[_DNA_TEST_SIZE:], DNA_test_labels[_DNA_TEST_SIZE:]"
      ],
      "execution_count": null,
      "outputs": []
    },
    {
      "cell_type": "markdown",
      "metadata": {
        "id": "5sfU2DMG149s"
      },
      "source": [
        "Now as the data is ready we are ready to build the model and train it."
      ]
    },
    {
      "cell_type": "code",
      "metadata": {
        "id": "RAdGkvKo19dc",
        "colab": {
          "base_uri": "https://localhost:8080/"
        },
        "outputId": "855b06e8-cd2a-4dcd-b6ab-31145ec5c318"
      },
      "source": [
        "_EPOCHS = 50\n",
        "_BATCH_SIZE = 32\n",
        "\n",
        "_METRICS = [\n",
        "      metrics.BinaryAccuracy(name='accuracy'),\n",
        "      metrics.Precision(name='precision'),\n",
        "      metrics.Recall(name='recall'),\n",
        "      metrics.AUC(name='auc'),\n",
        "]\n",
        "\n",
        "lncRNA_model = models.Sequential(\n",
        "    [\n",
        "     layers.Conv1D(20, 8, strides=1, activation='relu', input_shape=(90, 1)),\n",
        "     layers.Conv1D(20, 2, strides=1, activation='relu'),\n",
        "     layers.Flatten(),\n",
        "     layers.Dropout(0.5),\n",
        "     layers.Dense(400, activation='relu'),\n",
        "     layers.Dropout(0.5),\n",
        "     layers.Dense(1, activation='sigmoid')\n",
        "  ])\n",
        "\n",
        "lncRNA_model.compile(optimizer=optimizers.Adam(lr=1e-3),\n",
        "                     loss=losses.BinaryCrossentropy(),\n",
        "                     metrics=_METRICS)\n",
        "\n",
        "print(lncRNA_model.summary())\n",
        "\n",
        "lncRNA_training_history = lncRNA_model.fit(lncRNA_train, lncRNA_train_labels, batch_size=_BATCH_SIZE,\n",
        "                                           epochs=_EPOCHS, validation_data=(lncRNA_val, lncRNA_val_labels), \n",
        "                                           verbose=0)"
      ],
      "execution_count": null,
      "outputs": [
        {
          "output_type": "stream",
          "text": [
            "Model: \"sequential\"\n",
            "_________________________________________________________________\n",
            "Layer (type)                 Output Shape              Param #   \n",
            "=================================================================\n",
            "conv1d (Conv1D)              (None, 83, 20)            180       \n",
            "_________________________________________________________________\n",
            "conv1d_1 (Conv1D)            (None, 82, 20)            820       \n",
            "_________________________________________________________________\n",
            "flatten (Flatten)            (None, 1640)              0         \n",
            "_________________________________________________________________\n",
            "dropout (Dropout)            (None, 1640)              0         \n",
            "_________________________________________________________________\n",
            "dense (Dense)                (None, 400)               656400    \n",
            "_________________________________________________________________\n",
            "dropout_1 (Dropout)          (None, 400)               0         \n",
            "_________________________________________________________________\n",
            "dense_1 (Dense)              (None, 1)                 401       \n",
            "=================================================================\n",
            "Total params: 657,801\n",
            "Trainable params: 657,801\n",
            "Non-trainable params: 0\n",
            "_________________________________________________________________\n",
            "None\n"
          ],
          "name": "stdout"
        }
      ]
    },
    {
      "cell_type": "markdown",
      "metadata": {
        "id": "Ue0Ty6bP5kCp"
      },
      "source": [
        "Now we let us plot the training history."
      ]
    },
    {
      "cell_type": "code",
      "metadata": {
        "id": "tAQLY9NJ52UF",
        "colab": {
          "base_uri": "https://localhost:8080/",
          "height": 609
        },
        "outputId": "9c922a4f-9496-4f32-c705-cba2655e7f69"
      },
      "source": [
        "plot_metrics(lncRNA_training_history)"
      ],
      "execution_count": null,
      "outputs": [
        {
          "output_type": "display_data",
          "data": {
            "image/png": "[encoded data removed]",
            "text/plain": [
              "<Figure size 864x720 with 4 Axes>"
            ]
          },
          "metadata": {
            "tags": [],
            "needs_background": "light"
          }
        }
      ]
    },
    {
      "cell_type": "markdown",
      "metadata": {
        "id": "HM-bTCEq6KtN"
      },
      "source": [
        "Doing the same for the DNA data."
      ]
    },
    {
      "cell_type": "code",
      "metadata": {
        "id": "YQ7kCYdt6P4X",
        "colab": {
          "base_uri": "https://localhost:8080/"
        },
        "outputId": "f1193034-b4d0-4342-9c61-136106da81fd"
      },
      "source": [
        "DNA_model = models.Sequential(\n",
        "    [\n",
        "     layers.Conv1D(20, 8, strides=1, activation='relu', input_shape=(90, 1)),\n",
        "     layers.Conv1D(20, 4, strides=1, activation='relu'),\n",
        "     layers.Flatten(),\n",
        "     layers.Dropout(0.5),\n",
        "     layers.Dense(400, activation='relu'),\n",
        "     layers.Dropout(0.5),\n",
        "     layers.Dense(1, activation='sigmoid')\n",
        "  ])\n",
        "\n",
        "DNA_model.compile(\n",
        "  optimizer=optimizers.Adam(lr=1e-3),\n",
        "  loss=losses.BinaryCrossentropy(),\n",
        "  metrics=_METRICS)\n",
        "\n",
        "print(DNA_model.summary())\n",
        "\n",
        "DNA_training_history = DNA_model.fit(DNA_train, DNA_train_labels, batch_size=_BATCH_SIZE,\n",
        "                                     epochs=_EPOCHS, validation_data=(DNA_val, DNA_val_labels),\n",
        "                                     verbose=0)"
      ],
      "execution_count": null,
      "outputs": [
        {
          "output_type": "stream",
          "text": [
            "Model: \"sequential_1\"\n",
            "_________________________________________________________________\n",
            "Layer (type)                 Output Shape              Param #   \n",
            "=================================================================\n",
            "conv1d_2 (Conv1D)            (None, 83, 20)            180       \n",
            "_________________________________________________________________\n",
            "conv1d_3 (Conv1D)            (None, 80, 20)            1620      \n",
            "_________________________________________________________________\n",
            "flatten_1 (Flatten)          (None, 1600)              0         \n",
            "_________________________________________________________________\n",
            "dropout_2 (Dropout)          (None, 1600)              0         \n",
            "_________________________________________________________________\n",
            "dense_2 (Dense)              (None, 400)               640400    \n",
            "_________________________________________________________________\n",
            "dropout_3 (Dropout)          (None, 400)               0         \n",
            "_________________________________________________________________\n",
            "dense_3 (Dense)              (None, 1)                 401       \n",
            "=================================================================\n",
            "Total params: 642,601\n",
            "Trainable params: 642,601\n",
            "Non-trainable params: 0\n",
            "_________________________________________________________________\n",
            "None\n"
          ],
          "name": "stdout"
        }
      ]
    },
    {
      "cell_type": "code",
      "metadata": {
        "id": "0RgJjT1x691f",
        "colab": {
          "base_uri": "https://localhost:8080/",
          "height": 609
        },
        "outputId": "ab2b48d6-3173-47be-9d6e-6e3539535e42"
      },
      "source": [
        "plot_metrics(DNA_training_history)"
      ],
      "execution_count": null,
      "outputs": [
        {
          "output_type": "display_data",
          "data": {
            "image/png": "[encoded data removed]",
            "text/plain": [
              "<Figure size 864x720 with 4 Axes>"
            ]
          },
          "metadata": {
            "tags": [],
            "needs_background": "light"
          }
        }
      ]
    },
    {
      "cell_type": "markdown",
      "metadata": {
        "id": "nXX70f0a7ESn"
      },
      "source": [
        "Now we can test the models on the test set."
      ]
    },
    {
      "cell_type": "code",
      "metadata": {
        "id": "7zvOqsgL7I2m",
        "colab": {
          "base_uri": "https://localhost:8080/"
        },
        "outputId": "3794291c-4fe2-421a-d56f-af3cccacc817"
      },
      "source": [
        "lncRNA_model.evaluate(lncRNA_test, lncRNA_test_labels)"
      ],
      "execution_count": null,
      "outputs": [
        {
          "output_type": "stream",
          "text": [
            "15/15 [==============================] - 0s 3ms/step - loss: 0.9073 - accuracy: 0.4911 - precision: 0.5000 - recall: 0.4847 - auc: 0.5058\n"
          ],
          "name": "stdout"
        },
        {
          "output_type": "execute_result",
          "data": {
            "text/plain": [
              "[0.9073299765586853,\n",
              " 0.4911110997200012,\n",
              " 0.5,\n",
              " 0.48471614718437195,\n",
              " 0.5058388710021973]"
            ]
          },
          "metadata": {
            "tags": []
          },
          "execution_count": 25
        }
      ]
    },
    {
      "cell_type": "code",
      "metadata": {
        "id": "vjgws1Lh7S6_",
        "colab": {
          "base_uri": "https://localhost:8080/"
        },
        "outputId": "8916c94a-63cc-40be-da73-61905c4902c0"
      },
      "source": [
        "DNA_model.evaluate(DNA_test, DNA_test_labels)"
      ],
      "execution_count": null,
      "outputs": [
        {
          "output_type": "stream",
          "text": [
            "57/57 [==============================] - 0s 3ms/step - loss: 0.8883 - accuracy: 0.4839 - precision: 0.4967 - recall: 0.4897 - auc: 0.4896\n"
          ],
          "name": "stdout"
        },
        {
          "output_type": "execute_result",
          "data": {
            "text/plain": [
              "[0.8882991671562195,\n",
              " 0.4838888943195343,\n",
              " 0.49670329689979553,\n",
              " 0.48970746994018555,\n",
              " 0.48962533473968506]"
            ]
          },
          "metadata": {
            "tags": []
          },
          "execution_count": 26
        }
      ]
    },
    {
      "cell_type": "code",
      "metadata": {
        "id": "3ReP6atO17Hp"
      },
      "source": [
        ""
      ],
      "execution_count": null,
      "outputs": []
    }
  ]
}